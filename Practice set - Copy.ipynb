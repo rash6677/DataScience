{
 "cells": [
  {
   "cell_type": "code",
   "execution_count": 2,
   "id": "3a7df1c1-ae5b-40dd-8fe3-932e51d9bdf3",
   "metadata": {},
   "outputs": [
    {
     "name": "stdout",
     "output_type": "stream",
     "text": [
      "name\n"
     ]
    }
   ],
   "source": [
    "print ('name')"
   ]
  },
  {
   "cell_type": "code",
   "execution_count": null,
   "id": "d50a94bb-7d5e-4635-973b-e035303d68ab",
   "metadata": {},
   "outputs": [],
   "source": []
  },
  {
   "cell_type": "code",
   "execution_count": 3,
   "id": "9d213153-667a-45e1-a751-d75ec6bf1884",
   "metadata": {},
   "outputs": [],
   "source": [
    "lst=list()"
   ]
  },
  {
   "cell_type": "code",
   "execution_count": 4,
   "id": "5bfa9bdd-a1cb-4d29-9556-ef503fe33ff7",
   "metadata": {},
   "outputs": [
    {
     "data": {
      "text/plain": [
       "list"
      ]
     },
     "execution_count": 4,
     "metadata": {},
     "output_type": "execute_result"
    }
   ],
   "source": [
    "type(lst)"
   ]
  },
  {
   "cell_type": "code",
   "execution_count": null,
   "id": "ce1eb152-f5b2-4e34-983f-9149ee8c4edc",
   "metadata": {},
   "outputs": [],
   "source": [
    "lst"
   ]
  },
  {
   "cell_type": "code",
   "execution_count": 14,
   "id": "bf595da8-36ba-4ff5-bbf3-85867b669739",
   "metadata": {},
   "outputs": [],
   "source": [
    "lst.append('Keisha')"
   ]
  },
  {
   "cell_type": "code",
   "execution_count": 15,
   "id": "2f301fb7-2746-4023-9907-54cf4afdc137",
   "metadata": {},
   "outputs": [
    {
     "data": {
      "text/plain": [
       "['Keisha']"
      ]
     },
     "execution_count": 15,
     "metadata": {},
     "output_type": "execute_result"
    }
   ],
   "source": [
    "lst"
   ]
  },
  {
   "cell_type": "code",
   "execution_count": 16,
   "id": "2a0d4d46-5394-4a4f-b8fe-b63f65bdd044",
   "metadata": {},
   "outputs": [],
   "source": [
    "lst.append('I will be successful')"
   ]
  },
  {
   "cell_type": "code",
   "execution_count": 17,
   "id": "5a1f69d4-c2cd-4cbe-9f50-96813fbc1e31",
   "metadata": {},
   "outputs": [
    {
     "data": {
      "text/plain": [
       "['Keisha', 'I will be successful']"
      ]
     },
     "execution_count": 17,
     "metadata": {},
     "output_type": "execute_result"
    }
   ],
   "source": [
    "lst"
   ]
  },
  {
   "cell_type": "code",
   "execution_count": 18,
   "id": "19b81aa2-4755-494a-a17f-0cfcd42770b4",
   "metadata": {},
   "outputs": [],
   "source": [
    "str=lst[0]"
   ]
  },
  {
   "cell_type": "code",
   "execution_count": 19,
   "id": "32bce3e3-3fe3-4fcd-aa17-2aaebb00abce",
   "metadata": {},
   "outputs": [
    {
     "data": {
      "text/plain": [
       "'Keisha'"
      ]
     },
     "execution_count": 19,
     "metadata": {},
     "output_type": "execute_result"
    }
   ],
   "source": [
    "str"
   ]
  },
  {
   "cell_type": "code",
   "execution_count": 20,
   "id": "2308bbca-4337-4d3f-8cef-49725c234947",
   "metadata": {},
   "outputs": [
    {
     "data": {
      "text/plain": [
       "str"
      ]
     },
     "execution_count": 20,
     "metadata": {},
     "output_type": "execute_result"
    }
   ],
   "source": [
    "type(str)"
   ]
  },
  {
   "cell_type": "code",
   "execution_count": 21,
   "id": "cebd1705-936a-486a-90d7-62cb2fb40ec3",
   "metadata": {},
   "outputs": [
    {
     "data": {
      "text/plain": [
       "True"
      ]
     },
     "execution_count": 21,
     "metadata": {},
     "output_type": "execute_result"
    }
   ],
   "source": [
    "str.isalpha()"
   ]
  },
  {
   "cell_type": "code",
   "execution_count": 23,
   "id": "dfe23cfa-16d3-428c-9dcf-503530c2c4b6",
   "metadata": {},
   "outputs": [],
   "source": [
    "lst.append('Me')"
   ]
  },
  {
   "cell_type": "code",
   "execution_count": 24,
   "id": "a92d659d-977a-4056-8eab-31e395b976d0",
   "metadata": {},
   "outputs": [
    {
     "data": {
      "text/plain": [
       "['Keisha', 'I will be successful', 'Me']"
      ]
     },
     "execution_count": 24,
     "metadata": {},
     "output_type": "execute_result"
    }
   ],
   "source": [
    "lst\n"
   ]
  },
  {
   "cell_type": "code",
   "execution_count": 25,
   "id": "5ecc34f5-5b4e-4d8b-a90f-85e6d80a8040",
   "metadata": {},
   "outputs": [
    {
     "data": {
      "text/plain": [
       "['I will be successful', 'Me']"
      ]
     },
     "execution_count": 25,
     "metadata": {},
     "output_type": "execute_result"
    }
   ],
   "source": [
    "lst[1:3]"
   ]
  },
  {
   "cell_type": "code",
   "execution_count": 26,
   "id": "6fbfa5e1-ba0b-4a7b-a428-11322c11c630",
   "metadata": {},
   "outputs": [
    {
     "data": {
      "text/plain": [
       "['I will be successful']"
      ]
     },
     "execution_count": 26,
     "metadata": {},
     "output_type": "execute_result"
    }
   ],
   "source": [
    "lst[1:2]"
   ]
  },
  {
   "cell_type": "code",
   "execution_count": 27,
   "id": "f4f6ae4c-fdbb-43a2-a770-694122585783",
   "metadata": {},
   "outputs": [
    {
     "data": {
      "text/plain": [
       "['I will be successful', 'Me']"
      ]
     },
     "execution_count": 27,
     "metadata": {},
     "output_type": "execute_result"
    }
   ],
   "source": [
    "lst[1:]"
   ]
  },
  {
   "cell_type": "code",
   "execution_count": 28,
   "id": "c8abb5c9-66c8-4f03-add6-5f7c6e9b6e84",
   "metadata": {},
   "outputs": [],
   "source": [
    "#insert fn"
   ]
  },
  {
   "cell_type": "code",
   "execution_count": 29,
   "id": "f127848d-8e48-473e-92ca-05bd9842b5ee",
   "metadata": {},
   "outputs": [],
   "source": [
    "lst.insert(2,'Trees')"
   ]
  },
  {
   "cell_type": "code",
   "execution_count": 30,
   "id": "4594a20a-fca4-49c3-97f7-9b10d60b4e0b",
   "metadata": {},
   "outputs": [
    {
     "data": {
      "text/plain": [
       "['Keisha', 'I will be successful', 'Trees', 'Me']"
      ]
     },
     "execution_count": 30,
     "metadata": {},
     "output_type": "execute_result"
    }
   ],
   "source": [
    "lst"
   ]
  },
  {
   "cell_type": "code",
   "execution_count": 31,
   "id": "f39d1fa1-d10e-4cac-97e5-141ad2ebcf4b",
   "metadata": {},
   "outputs": [],
   "source": [
    "lst.append(['Rash', 'Kalra']) #nested list "
   ]
  },
  {
   "cell_type": "code",
   "execution_count": 32,
   "id": "956fe935-48f4-4403-9053-d4ca94bc3e20",
   "metadata": {},
   "outputs": [
    {
     "data": {
      "text/plain": [
       "['Keisha', 'I will be successful', 'Trees', 'Me', ['Rash', 'Kalra']]"
      ]
     },
     "execution_count": 32,
     "metadata": {},
     "output_type": "execute_result"
    }
   ],
   "source": [
    "lst"
   ]
  },
  {
   "cell_type": "code",
   "execution_count": 33,
   "id": "274eaaa7-317a-42d7-b10a-01e83f8a854c",
   "metadata": {},
   "outputs": [],
   "source": [
    "lst.extend([1,2])"
   ]
  },
  {
   "cell_type": "code",
   "execution_count": 34,
   "id": "e85b847d-4d76-4c2d-9815-13ac76356a6f",
   "metadata": {},
   "outputs": [
    {
     "data": {
      "text/plain": [
       "['Keisha', 'I will be successful', 'Trees', 'Me', ['Rash', 'Kalra'], 1, 2]"
      ]
     },
     "execution_count": 34,
     "metadata": {},
     "output_type": "execute_result"
    }
   ],
   "source": [
    "lst"
   ]
  },
  {
   "cell_type": "code",
   "execution_count": 35,
   "id": "959bab34-a4e3-4f9f-a968-b9841c94fbf2",
   "metadata": {},
   "outputs": [],
   "source": [
    "lst.append(1)"
   ]
  },
  {
   "cell_type": "code",
   "execution_count": 36,
   "id": "4af395d0-57c4-4bda-961d-c7f9a867f276",
   "metadata": {},
   "outputs": [
    {
     "data": {
      "text/plain": [
       "2"
      ]
     },
     "execution_count": 36,
     "metadata": {},
     "output_type": "execute_result"
    }
   ],
   "source": [
    "lst.count(1)"
   ]
  },
  {
   "cell_type": "code",
   "execution_count": 37,
   "id": "54ed1860-7a8e-4bd5-9249-8295f6e2b8e7",
   "metadata": {},
   "outputs": [
    {
     "data": {
      "text/plain": [
       "5"
      ]
     },
     "execution_count": 37,
     "metadata": {},
     "output_type": "execute_result"
    }
   ],
   "source": [
    "lst.index(1)"
   ]
  },
  {
   "cell_type": "code",
   "execution_count": 38,
   "id": "46c535ed-c86b-4e9b-8a7b-70e96f2c5169",
   "metadata": {},
   "outputs": [
    {
     "ename": "TypeError",
     "evalue": "'>' not supported between instances of 'list' and 'str'",
     "output_type": "error",
     "traceback": [
      "\u001b[1;31m---------------------------------------------------------------------------\u001b[0m",
      "\u001b[1;31mTypeError\u001b[0m                                 Traceback (most recent call last)",
      "Cell \u001b[1;32mIn[38], line 1\u001b[0m\n\u001b[1;32m----> 1\u001b[0m \u001b[38;5;28mmax\u001b[39m(lst)\n",
      "\u001b[1;31mTypeError\u001b[0m: '>' not supported between instances of 'list' and 'str'"
     ]
    }
   ],
   "source": [
    "max(lst)"
   ]
  },
  {
   "cell_type": "code",
   "execution_count": 39,
   "id": "1291dde0-ecfc-4b21-a7f5-ceb0e4d74d71",
   "metadata": {},
   "outputs": [
    {
     "data": {
      "text/plain": [
       "['Keisha',\n",
       " 'I will be successful',\n",
       " 'Trees',\n",
       " 'Me',\n",
       " ['Rash', 'Kalra'],\n",
       " 1,\n",
       " 2,\n",
       " 1,\n",
       " 'Keisha',\n",
       " 'I will be successful',\n",
       " 'Trees',\n",
       " 'Me',\n",
       " ['Rash', 'Kalra'],\n",
       " 1,\n",
       " 2,\n",
       " 1]"
      ]
     },
     "execution_count": 39,
     "metadata": {},
     "output_type": "execute_result"
    }
   ],
   "source": [
    "lst*2"
   ]
  },
  {
   "cell_type": "code",
   "execution_count": 40,
   "id": "7eea20bf-40b5-439d-9b5c-e42a3940a065",
   "metadata": {},
   "outputs": [],
   "source": [
    "import numpy as np"
   ]
  },
  {
   "cell_type": "code",
   "execution_count": 41,
   "id": "c7564bdd-0590-4b7b-a642-70d7892bebd1",
   "metadata": {},
   "outputs": [],
   "source": [
    "a=9"
   ]
  },
  {
   "cell_type": "code",
   "execution_count": 42,
   "id": "4cda226c-b1d7-4593-ae04-f9d5f9e69fdc",
   "metadata": {},
   "outputs": [],
   "source": [
    "arr=np.array(a)"
   ]
  },
  {
   "cell_type": "code",
   "execution_count": 43,
   "id": "04f69d60-020c-4dc5-9769-93bc741f31e1",
   "metadata": {},
   "outputs": [
    {
     "data": {
      "text/plain": [
       "array(9)"
      ]
     },
     "execution_count": 43,
     "metadata": {},
     "output_type": "execute_result"
    }
   ],
   "source": [
    "arr"
   ]
  },
  {
   "cell_type": "code",
   "execution_count": 44,
   "id": "0a70ad49-7be6-49d9-9055-4822820f2e8f",
   "metadata": {},
   "outputs": [
    {
     "data": {
      "text/plain": [
       "numpy.ndarray"
      ]
     },
     "execution_count": 44,
     "metadata": {},
     "output_type": "execute_result"
    }
   ],
   "source": [
    " type(arr)"
   ]
  },
  {
   "cell_type": "code",
   "execution_count": 45,
   "id": "0adca64e-86af-4d51-80ad-07782fd6b5ca",
   "metadata": {},
   "outputs": [
    {
     "name": "stdout",
     "output_type": "stream",
     "text": [
      "9\n"
     ]
    }
   ],
   "source": [
    "print(arr)"
   ]
  },
  {
   "cell_type": "code",
   "execution_count": 46,
   "id": "400ac3c0-8a9b-4ebf-b965-27e5f255f1fd",
   "metadata": {},
   "outputs": [],
   "source": [
    "my_lst=[1,3,3,5,5]"
   ]
  },
  {
   "cell_type": "code",
   "execution_count": 50,
   "id": "28cab6ac-6a0d-4236-b2f2-736ad3f4ac53",
   "metadata": {},
   "outputs": [],
   "source": [
    "er=np.array(my_lst)"
   ]
  },
  {
   "cell_type": "code",
   "execution_count": 48,
   "id": "5ad091df-d4e2-4c49-bce8-cf54362a3b42",
   "metadata": {},
   "outputs": [
    {
     "name": "stdout",
     "output_type": "stream",
     "text": [
      "9\n"
     ]
    }
   ],
   "source": [
    "print(arr)"
   ]
  },
  {
   "cell_type": "code",
   "execution_count": 51,
   "id": "b1dccd69-423c-48ee-bce8-5e63c9f21e64",
   "metadata": {},
   "outputs": [
    {
     "name": "stdout",
     "output_type": "stream",
     "text": [
      "[1 3 3 5 5]\n"
     ]
    }
   ],
   "source": [
    "print(er)"
   ]
  },
  {
   "cell_type": "code",
   "execution_count": 52,
   "id": "10f8446c-1a8d-4868-ba24-527b0fc1f9df",
   "metadata": {},
   "outputs": [
    {
     "data": {
      "text/plain": [
       "array([1, 3, 3, 5, 5])"
      ]
     },
     "execution_count": 52,
     "metadata": {},
     "output_type": "execute_result"
    }
   ],
   "source": [
    "er\n"
   ]
  },
  {
   "cell_type": "code",
   "execution_count": 53,
   "id": "4c508db0-c3ad-492f-b2db-0424153ae979",
   "metadata": {},
   "outputs": [],
   "source": [
    "my_lst1=[1,2,3,4,5]"
   ]
  },
  {
   "cell_type": "code",
   "execution_count": 54,
   "id": "1ed5520b-03c9-4dde-bc26-2d8f90f63541",
   "metadata": {},
   "outputs": [],
   "source": [
    "my_lst2=[2,3,4,5,6]\n",
    "my_lst3=[3,4,5,6,7]"
   ]
  },
  {
   "cell_type": "code",
   "execution_count": 55,
   "id": "26eedc5f-7938-49af-a141-3638053e62f4",
   "metadata": {},
   "outputs": [],
   "source": [
    "orry=np.array([my_lst1,my_lst2,my_lst3])"
   ]
  },
  {
   "cell_type": "code",
   "execution_count": 56,
   "id": "3569db81-baea-4d15-b063-6da291c885cc",
   "metadata": {},
   "outputs": [
    {
     "data": {
      "text/plain": [
       "array([[1, 2, 3, 4, 5],\n",
       "       [2, 3, 4, 5, 6],\n",
       "       [3, 4, 5, 6, 7]])"
      ]
     },
     "execution_count": 56,
     "metadata": {},
     "output_type": "execute_result"
    }
   ],
   "source": [
    "orry"
   ]
  },
  {
   "cell_type": "code",
   "execution_count": 60,
   "id": "0d8f3d39-91fd-4781-b209-1a705b1d356a",
   "metadata": {},
   "outputs": [
    {
     "data": {
      "text/plain": [
       "(3, 5)"
      ]
     },
     "execution_count": 60,
     "metadata": {},
     "output_type": "execute_result"
    }
   ],
   "source": [
    " orry.shape"
   ]
  },
  {
   "cell_type": "code",
   "execution_count": 61,
   "id": "5a6652ae-23df-4f15-a7d8-5f2a7a71ca83",
   "metadata": {},
   "outputs": [
    {
     "data": {
      "text/plain": [
       "array([[1, 2, 3],\n",
       "       [4, 5, 2],\n",
       "       [3, 4, 5],\n",
       "       [6, 3, 4],\n",
       "       [5, 6, 7]])"
      ]
     },
     "execution_count": 61,
     "metadata": {},
     "output_type": "execute_result"
    }
   ],
   "source": [
    "orry.reshape(5,3)"
   ]
  },
  {
   "cell_type": "code",
   "execution_count": 63,
   "id": "cf913324-3da5-4797-ba41-18cb0b6028d7",
   "metadata": {},
   "outputs": [],
   "source": [
    "# reshaping is changing dimensions of the given array 3x5 to 5x3"
   ]
  },
  {
   "cell_type": "code",
   "execution_count": 64,
   "id": "769e6550-9c89-4139-8fcb-f5b16e9663c5",
   "metadata": {},
   "outputs": [
    {
     "data": {
      "text/plain": [
       "array([[1, 2, 3, 4, 5],\n",
       "       [2, 3, 4, 5, 6],\n",
       "       [3, 4, 5, 6, 7]])"
      ]
     },
     "execution_count": 64,
     "metadata": {},
     "output_type": "execute_result"
    }
   ],
   "source": [
    "orry.reshape(3,5)"
   ]
  },
  {
   "cell_type": "code",
   "execution_count": 65,
   "id": "cfd0dfb7-148e-4f9b-84e7-d9572f37c8e2",
   "metadata": {},
   "outputs": [],
   "source": [
    "arr2=np.array([1,2,3,4,5 ])"
   ]
  },
  {
   "cell_type": "code",
   "execution_count": 66,
   "id": "ea5182bc-0d69-4935-8c51-8b35a2eef900",
   "metadata": {},
   "outputs": [],
   "source": [
    "arr3=np.array([2,3,4,5,6])"
   ]
  },
  {
   "cell_type": "code",
   "execution_count": 67,
   "id": "26d1fece-57e5-483f-9510-d97654cc790f",
   "metadata": {},
   "outputs": [],
   "source": [
    "arr4=np.array([3,4,5,6,7])"
   ]
  },
  {
   "cell_type": "code",
   "execution_count": 68,
   "id": "c191672e-1838-4f3a-b7bc-cec4999c4050",
   "metadata": {},
   "outputs": [],
   "source": [
    "orry2=np.array([arr2, arr3,arr4])"
   ]
  },
  {
   "cell_type": "code",
   "execution_count": 69,
   "id": "1f4d32ec-410a-493e-a681-70ce4b5cc409",
   "metadata": {},
   "outputs": [
    {
     "data": {
      "text/plain": [
       "array([[1, 2, 3, 4, 5],\n",
       "       [2, 3, 4, 5, 6],\n",
       "       [3, 4, 5, 6, 7]])"
      ]
     },
     "execution_count": 69,
     "metadata": {},
     "output_type": "execute_result"
    }
   ],
   "source": [
    "orry2\n"
   ]
  },
  {
   "cell_type": "code",
   "execution_count": 70,
   "id": "c8e37182-89a7-445c-996b-4083994a27da",
   "metadata": {},
   "outputs": [
    {
     "data": {
      "text/plain": [
       "array([[1, 2],\n",
       "       [2, 3]])"
      ]
     },
     "execution_count": 70,
     "metadata": {},
     "output_type": "execute_result"
    }
   ],
   "source": [
    "orry2[0:2,0:2]"
   ]
  },
  {
   "cell_type": "code",
   "execution_count": 71,
   "id": "ce37e255-dfc4-40e7-be0b-8b63b4f790ec",
   "metadata": {},
   "outputs": [
    {
     "data": {
      "text/plain": [
       "array([[1, 2, 3],\n",
       "       [2, 3, 4],\n",
       "       [3, 4, 5]])"
      ]
     },
     "execution_count": 71,
     "metadata": {},
     "output_type": "execute_result"
    }
   ],
   "source": [
    "orry2[0:4,0:3]"
   ]
  },
  {
   "cell_type": "code",
   "execution_count": 72,
   "id": "62134118-d3e2-4a77-86bf-c252e95a7bde",
   "metadata": {},
   "outputs": [
    {
     "data": {
      "text/plain": [
       "array([[4, 5, 6],\n",
       "       [5, 6, 7]])"
      ]
     },
     "execution_count": 72,
     "metadata": {},
     "output_type": "execute_result"
    }
   ],
   "source": [
    "orry2[1:,2:]"
   ]
  },
  {
   "cell_type": "code",
   "execution_count": 74,
   "id": "094e9264-7f85-4b73-b531-1dcb5d4d06f7",
   "metadata": {},
   "outputs": [],
   "source": [
    "arr2[3:]=100"
   ]
  },
  {
   "cell_type": "code",
   "execution_count": 75,
   "id": "ec693dbd-53da-463a-b9e7-c429c3300ca1",
   "metadata": {},
   "outputs": [
    {
     "data": {
      "text/plain": [
       "array([  1,   2,   3, 100, 100])"
      ]
     },
     "execution_count": 75,
     "metadata": {},
     "output_type": "execute_result"
    }
   ],
   "source": [
    "arr2"
   ]
  },
  {
   "cell_type": "code",
   "execution_count": 76,
   "id": "b0732d5d-34c2-44ac-bd93-6d6edc1d54ea",
   "metadata": {},
   "outputs": [
    {
     "data": {
      "text/plain": [
       "array([1, 2])"
      ]
     },
     "execution_count": 76,
     "metadata": {},
     "output_type": "execute_result"
    }
   ],
   "source": [
    "val=2\n",
    "\n",
    "arr2[arr2<3]"
   ]
  },
  {
   "cell_type": "code",
   "execution_count": 1,
   "id": "9f3228eb-dbd1-46d3-a852-d6edee67d3ac",
   "metadata": {},
   "outputs": [
    {
     "ename": "NameError",
     "evalue": "name 'arr2' is not defined",
     "output_type": "error",
     "traceback": [
      "\u001b[1;31m---------------------------------------------------------------------------\u001b[0m",
      "\u001b[1;31mNameError\u001b[0m                                 Traceback (most recent call last)",
      "Cell \u001b[1;32mIn[1], line 1\u001b[0m\n\u001b[1;32m----> 1\u001b[0m arr2[arr2\u001b[38;5;241m<\u001b[39m\u001b[38;5;241m5\u001b[39m]\n",
      "\u001b[1;31mNameError\u001b[0m: name 'arr2' is not defined"
     ]
    }
   ],
   "source": [
    "arr2[arr2<5]"
   ]
  },
  {
   "cell_type": "code",
   "execution_count": 78,
   "id": "d130b5ed-ea46-4343-ba82-cdb1081f61b5",
   "metadata": {},
   "outputs": [
    {
     "data": {
      "text/plain": [
       "array(9)"
      ]
     },
     "execution_count": 78,
     "metadata": {},
     "output_type": "execute_result"
    }
   ],
   "source": [
    "arr"
   ]
  },
  {
   "cell_type": "code",
   "execution_count": 79,
   "id": "4043100a-72ce-4b78-960f-f399450593e5",
   "metadata": {},
   "outputs": [
    {
     "ename": "TypeError",
     "evalue": "linspace() missing 2 required positional arguments: 'start' and 'stop'",
     "output_type": "error",
     "traceback": [
      "\u001b[1;31m---------------------------------------------------------------------------\u001b[0m",
      "\u001b[1;31mTypeError\u001b[0m                                 Traceback (most recent call last)",
      "Cell \u001b[1;32mIn[79], line 1\u001b[0m\n\u001b[1;32m----> 1\u001b[0m np\u001b[38;5;241m.\u001b[39mlinspace()\n",
      "\u001b[1;31mTypeError\u001b[0m: linspace() missing 2 required positional arguments: 'start' and 'stop'"
     ]
    }
   ],
   "source": [
    "np.linspace()"
   ]
  },
  {
   "cell_type": "code",
   "execution_count": 83,
   "id": "a6613ec7-5d79-4f01-86c6-98082846ec88",
   "metadata": {},
   "outputs": [],
   "source": [
    "arr=np.arange(0,12,1)"
   ]
  },
  {
   "cell_type": "code",
   "execution_count": 84,
   "id": "b799eb01-f2b0-47b6-a9b1-a36cc818401c",
   "metadata": {},
   "outputs": [
    {
     "data": {
      "text/plain": [
       "array([ 0,  1,  2,  3,  4,  5,  6,  7,  8,  9, 10, 11])"
      ]
     },
     "execution_count": 84,
     "metadata": {},
     "output_type": "execute_result"
    }
   ],
   "source": [
    "arr"
   ]
  },
  {
   "cell_type": "code",
   "execution_count": 85,
   "id": "9ccaa741-c962-48ac-a252-4cbfbef3b4b3",
   "metadata": {},
   "outputs": [
    {
     "ename": "NameError",
     "evalue": "name 'arr1' is not defined",
     "output_type": "error",
     "traceback": [
      "\u001b[1;31m---------------------------------------------------------------------------\u001b[0m",
      "\u001b[1;31mNameError\u001b[0m                                 Traceback (most recent call last)",
      "Cell \u001b[1;32mIn[85], line 1\u001b[0m\n\u001b[1;32m----> 1\u001b[0m arr\u001b[38;5;241m=\u001b[39marr1\n",
      "\u001b[1;31mNameError\u001b[0m: name 'arr1' is not defined"
     ]
    }
   ],
   "source": [
    "arr=arr1"
   ]
  },
  {
   "cell_type": "code",
   "execution_count": 86,
   "id": "155394de-3174-4439-893b-d130f4c21d42",
   "metadata": {},
   "outputs": [],
   "source": [
    "arr=arr2"
   ]
  },
  {
   "cell_type": "code",
   "execution_count": 87,
   "id": "c2ece5ce-f879-4a66-ba77-8d4c17c740ca",
   "metadata": {},
   "outputs": [
    {
     "data": {
      "text/plain": [
       "array([  1,   2,   3, 100, 100])"
      ]
     },
     "execution_count": 87,
     "metadata": {},
     "output_type": "execute_result"
    }
   ],
   "source": [
    "arr"
   ]
  },
  {
   "cell_type": "code",
   "execution_count": 88,
   "id": "1e957207-274f-470c-8b1b-e55f451432fe",
   "metadata": {},
   "outputs": [],
   "source": [
    "arr2[3:]=4"
   ]
  },
  {
   "cell_type": "code",
   "execution_count": 89,
   "id": "f16de0e3-788e-405d-8c28-c328cc6da2a2",
   "metadata": {},
   "outputs": [
    {
     "data": {
      "text/plain": [
       "array([1, 2, 3, 4, 4])"
      ]
     },
     "execution_count": 89,
     "metadata": {},
     "output_type": "execute_result"
    }
   ],
   "source": [
    "arr"
   ]
  },
  {
   "cell_type": "code",
   "execution_count": 90,
   "id": "d51264cc-ad6c-46b8-b2f9-93a542531438",
   "metadata": {},
   "outputs": [
    {
     "data": {
      "text/plain": [
       "array([2, 4, 6, 8, 8])"
      ]
     },
     "execution_count": 90,
     "metadata": {},
     "output_type": "execute_result"
    }
   ],
   "source": [
    "arr*2"
   ]
  },
  {
   "cell_type": "code",
   "execution_count": 91,
   "id": "6fbbc69c-c5d4-45e8-b976-b468a1cc7e0e",
   "metadata": {},
   "outputs": [
    {
     "data": {
      "text/plain": [
       "array([1, 2, 3, 4, 4])"
      ]
     },
     "execution_count": 91,
     "metadata": {},
     "output_type": "execute_result"
    }
   ],
   "source": [
    "arr"
   ]
  },
  {
   "cell_type": "code",
   "execution_count": 92,
   "id": "2ddc65d1-7cbc-4e43-866b-7977d507b871",
   "metadata": {},
   "outputs": [],
   "source": [
    "arr=arr2.copy()"
   ]
  },
  {
   "cell_type": "code",
   "execution_count": null,
   "id": "e5ea40f4-8159-40d9-b8dc-37972af04c01",
   "metadata": {},
   "outputs": [],
   "source": []
  }
 ],
 "metadata": {
  "kernelspec": {
   "display_name": "Python 3 (ipykernel)",
   "language": "python",
   "name": "python3"
  },
  "language_info": {
   "codemirror_mode": {
    "name": "ipython",
    "version": 3
   },
   "file_extension": ".py",
   "mimetype": "text/x-python",
   "name": "python",
   "nbconvert_exporter": "python",
   "pygments_lexer": "ipython3",
   "version": "3.12.4"
  }
 },
 "nbformat": 4,
 "nbformat_minor": 5
}
